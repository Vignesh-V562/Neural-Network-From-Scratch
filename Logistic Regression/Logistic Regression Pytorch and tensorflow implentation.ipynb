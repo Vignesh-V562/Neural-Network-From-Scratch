{
 "cells": [
  {
   "cell_type": "markdown",
   "id": "2b19dc3a-ec7c-40ed-802c-085d32879189",
   "metadata": {},
   "source": [
    "## Implementing the Logistic Regression as Neural network "
   ]
  },
  {
   "cell_type": "code",
   "execution_count": 21,
   "id": "f21b8e59-b578-46cb-b33d-01b4233ed065",
   "metadata": {},
   "outputs": [],
   "source": [
    "import numpy as np\n",
    "import h5py"
   ]
  },
  {
   "cell_type": "code",
   "execution_count": 23,
   "id": "734ac53e-0636-4480-a374-25d6c6f1f59a",
   "metadata": {},
   "outputs": [],
   "source": [
    "def load_dataset():\n",
    "    train_dataset = h5py.File('Cat vs dog dataset/train_catvnoncat.h5', \"r\")\n",
    "    train_set_x_orig = np.array(train_dataset[\"train_set_x\"][:]) # your train set features\n",
    "    train_set_y_orig = np.array(train_dataset[\"train_set_y\"][:]) # your train set labels\n",
    "\n",
    "    test_dataset = h5py.File('Cat vs dog dataset/test_catvnoncat.h5', \"r\")\n",
    "    test_set_x_orig = np.array(test_dataset[\"test_set_x\"][:]) # your test set features\n",
    "    test_set_y_orig = np.array(test_dataset[\"test_set_y\"][:]) # your test set labels\n",
    "\n",
    "    classes = np.array(test_dataset[\"list_classes\"][:]) # the list of classes\n",
    "    \n",
    "    train_set_y_orig = train_set_y_orig.reshape((1, train_set_y_orig.shape[0]))\n",
    "    test_set_y_orig = test_set_y_orig.reshape((1, test_set_y_orig.shape[0]))\n",
    "    \n",
    "    return train_set_x_orig, train_set_y_orig, test_set_x_orig, test_set_y_orig, classes\n"
   ]
  },
  {
   "cell_type": "code",
   "execution_count": 25,
   "id": "3e2906cb-08c0-439a-a84f-3d43f9af3a0f",
   "metadata": {},
   "outputs": [],
   "source": [
    "X_train,y_train,X_test,y_test,classes = load_dataset()"
   ]
  },
  {
   "cell_type": "markdown",
   "id": "43e2d17c-c1d2-4897-977b-b2c492b5fab1",
   "metadata": {},
   "source": [
    "# Pytorch Implementation"
   ]
  },
  {
   "cell_type": "code",
   "execution_count": 28,
   "id": "2d9e3169-79cc-427e-9e77-6b9496b20abe",
   "metadata": {},
   "outputs": [],
   "source": [
    "import torch\n",
    "import torch.nn as nn\n",
    "import torch.optim as optim\n",
    "from torch.utils.data import DataLoader, TensorDataset"
   ]
  },
  {
   "cell_type": "code",
   "execution_count": 30,
   "id": "53f3b242-5542-4a95-a63a-00303224cff2",
   "metadata": {},
   "outputs": [],
   "source": [
    "# Converting Numpy arrays to torch tensors data type\n",
    "X_train_flat = X_train.reshape(X_train.shape[0], -1) / 255.\n",
    "X_test_flat = X_test.reshape(X_test.shape[0], -1) / 255.\n",
    "y_train_T = y_train.T\n",
    "y_test_T = y_test.T\n",
    "\n",
    "# Convert to PyTorch tensors\n",
    "X_train_tensor = torch.tensor(X_train_flat, dtype=torch.float32)\n",
    "y_train_tensor = torch.tensor(y_train_T, dtype=torch.float32)\n",
    "X_test_tensor = torch.tensor(X_test_flat, dtype=torch.float32)\n",
    "y_test_tensor = torch.tensor(y_test_T, dtype=torch.float32)\n",
    "\n",
    "train_dataset = TensorDataset(X_train_tensor, y_train_tensor)\n",
    "train_loader = DataLoader(train_dataset, batch_size=64, shuffle=True)"
   ]
  },
  {
   "cell_type": "code",
   "execution_count": 32,
   "id": "5c5d15dd-7ecd-40cc-8ac5-1983c258651e",
   "metadata": {},
   "outputs": [],
   "source": [
    "class LogisticRegressionModel(nn.Module):\n",
    "    def __init__(self, input_dim):\n",
    "        super(LogisticRegressionModel, self).__init__()\n",
    "        self.linear = nn.Linear(input_dim, 1)\n",
    "    \n",
    "    def forward(self, x):\n",
    "        return torch.sigmoid(self.linear(x))"
   ]
  },
  {
   "cell_type": "code",
   "execution_count": 34,
   "id": "6aff9c20-65e1-4b7a-927f-4d0f482d5a57",
   "metadata": {},
   "outputs": [],
   "source": [
    "model = LogisticRegressionModel(X_train_tensor.shape[1])\n",
    "criterion = nn.BCELoss()\n",
    "optimizer = optim.SGD(model.parameters(), lr=0.5)"
   ]
  },
  {
   "cell_type": "code",
   "execution_count": 36,
   "id": "3f2cbe97-26b1-43f6-b376-aa3c1402eb42",
   "metadata": {},
   "outputs": [
    {
     "name": "stdout",
     "output_type": "stream",
     "text": [
      "Epoch 0, Loss: 41.17647171020508\n",
      "Epoch 100, Loss: 35.29411697387695\n",
      "Epoch 200, Loss: 23.52941131591797\n",
      "Epoch 300, Loss: 47.05882263183594\n",
      "Epoch 400, Loss: 35.29411697387695\n",
      "Epoch 500, Loss: 29.41176414489746\n",
      "Epoch 600, Loss: 29.41176414489746\n",
      "Epoch 700, Loss: 29.41176414489746\n",
      "Epoch 800, Loss: 52.94117736816406\n",
      "Epoch 900, Loss: 35.29411697387695\n"
     ]
    }
   ],
   "source": [
    "epochs = 1000\n",
    "for epoch in range(epochs):\n",
    "    for inputs, labels in train_loader:\n",
    "        outputs = model(inputs).squeeze()\n",
    "        labels = labels.squeeze()\n",
    "        loss = criterion(outputs, labels)\n",
    "        optimizer.zero_grad()\n",
    "        loss.backward()\n",
    "        optimizer.step()\n",
    "    if epoch % 100 == 0:\n",
    "        print(f\"Epoch {epoch}, Loss: {loss.item()}\")"
   ]
  },
  {
   "cell_type": "code",
   "execution_count": 38,
   "id": "0e2c1699-b0b8-4a3b-b04e-729ab5134457",
   "metadata": {},
   "outputs": [
    {
     "name": "stdout",
     "output_type": "stream",
     "text": [
      "Test Accuracy: 34.00%\n"
     ]
    }
   ],
   "source": [
    "# Prediction and Accuracy\n",
    "with torch.no_grad():\n",
    "    preds = (model(X_test_tensor).squeeze() > 0.5).float()\n",
    "    acc = (preds == y_test_tensor.squeeze()).float().mean()\n",
    "    print(f\"Test Accuracy: {acc.item() * 100:.2f}%\")"
   ]
  },
  {
   "cell_type": "code",
   "execution_count": 40,
   "id": "3a302028-6ce0-4b95-bff5-3c5c31fe10b4",
   "metadata": {},
   "outputs": [],
   "source": [
    "import tensorflow as tf\n",
    "from tensorflow.keras.models import Sequential\n",
    "from tensorflow.keras.layers import Dense\n",
    "from tensorflow.keras.optimizers import SGD"
   ]
  },
  {
   "cell_type": "code",
   "execution_count": 42,
   "id": "8b634191-1cd3-458e-ab63-ddb66ba384aa",
   "metadata": {},
   "outputs": [],
   "source": [
    "X_train_flat = X_train.reshape(X_train.shape[0], -1) / 255.\n",
    "X_test_flat = X_test.reshape(X_test.shape[0], -1) / 255.\n",
    "y_train_T = y_train.T\n",
    "y_test_T = y_test.T"
   ]
  },
  {
   "cell_type": "code",
   "execution_count": 44,
   "id": "18ad92c0-18e0-449e-8aea-3276eba68826",
   "metadata": {},
   "outputs": [],
   "source": [
    "# Model\n",
    "model = Sequential([\n",
    "    Dense(1, activation='sigmoid', input_shape=(X_train_flat.shape[1],))\n",
    "])\n",
    "\n",
    "model.compile(optimizer=SGD(learning_rate=0.5), loss='binary_crossentropy', metrics=['accuracy'])"
   ]
  },
  {
   "cell_type": "code",
   "execution_count": 46,
   "id": "58caca1d-ee77-49d6-82b1-3bb695fdb899",
   "metadata": {},
   "outputs": [
    {
     "name": "stdout",
     "output_type": "stream",
     "text": [
      "Test Accuracy: 64.00%\n"
     ]
    }
   ],
   "source": [
    "# Training\n",
    "model.fit(X_train_flat, y_train_T, epochs=1000, batch_size=64, verbose=0)\n",
    "\n",
    "# Evaluation\n",
    "loss, accuracy = model.evaluate(X_test_flat, y_test_T, verbose=0)\n",
    "print(f\"Test Accuracy: {accuracy * 100:.2f}%\")"
   ]
  }
 ],
 "metadata": {
  "kernelspec": {
   "display_name": "Python 3 (ipykernel)",
   "language": "python",
   "name": "python3"
  },
  "language_info": {
   "codemirror_mode": {
    "name": "ipython",
    "version": 3
   },
   "file_extension": ".py",
   "mimetype": "text/x-python",
   "name": "python",
   "nbconvert_exporter": "python",
   "pygments_lexer": "ipython3",
   "version": "3.12.7"
  }
 },
 "nbformat": 4,
 "nbformat_minor": 5
}
